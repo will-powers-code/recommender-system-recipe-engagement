{
 "cells": [
  {
   "cell_type": "code",
   "execution_count": 1,
   "id": "e3954d19-8551-4f97-af5e-654bc6bc6a0a",
   "metadata": {},
   "outputs": [],
   "source": [
    "# imports"
   ]
  },
  {
   "cell_type": "code",
   "execution_count": 2,
   "id": "58bf2ec9-3d87-4cc6-847c-a053c37ef94d",
   "metadata": {
    "tags": []
   },
   "outputs": [],
   "source": [
    "import gzip\n",
    "from collections import defaultdict\n",
    "from sklearn import linear_model\n",
    "import csv\n",
    "import random\n",
    "from sklearn.metrics import mean_squared_error"
   ]
  },
  {
   "cell_type": "code",
   "execution_count": 3,
   "id": "70c91a88-9897-4cd2-b1b3-025e8dd05d9f",
   "metadata": {},
   "outputs": [],
   "source": [
    "# read funcs"
   ]
  },
  {
   "cell_type": "code",
   "execution_count": 4,
   "id": "81aee769-f04f-4714-bfb3-2e6c51c26d5c",
   "metadata": {
    "tags": []
   },
   "outputs": [],
   "source": [
    "def readGz(path):\n",
    "    for l in gzip.open(path, 'rt'):\n",
    "        yield eval(l)\n",
    "\n",
    "def readCSV(path):\n",
    "    f = gzip.open(path, 'rt')\n",
    "    c = csv.reader(f)\n",
    "    header = next(c)\n",
    "    for l in c:\n",
    "        d = dict(zip(header,l))\n",
    "        yield d['user_id'],d['recipe_id'],d"
   ]
  },
  {
   "cell_type": "code",
   "execution_count": 5,
   "id": "44f2bd4e-c838-42a1-b934-7ad174e5d558",
   "metadata": {},
   "outputs": [],
   "source": [
    "# Data Structs"
   ]
  },
  {
   "cell_type": "code",
   "execution_count": 6,
   "id": "170bff69-2138-4281-9e0d-872ae60ff5ba",
   "metadata": {
    "tags": []
   },
   "outputs": [],
   "source": [
    "\n",
    "### Rating baseline: compute averages for each user, or return the global average if we've never seen the user before\n",
    "\n",
    "allRatings = []\n",
    "userRatings = defaultdict(list)\n",
    "recipeRatings = defaultdict(list)\n",
    "urPairs = []\n",
    "ratings = []\n",
    "\n",
    "for user,recipe,d in readCSV(\"trainInteractions.csv.gz\"):\n",
    "    r = int(d['rating'])\n",
    "    urPairs.append([user,recipe])\n",
    "    ratings.append(r)\n",
    "    \n",
    "trainIndex = 20000*9//10\n",
    "\n",
    "urPairsTraining = urPairs[:trainIndex]\n",
    "ratingsTraining = ratings[:trainIndex]\n",
    "\n",
    "urPairsValidation = urPairs[trainIndex:20000]\n",
    "ratingsValidation = ratings[trainIndex:20000]\n",
    "\n",
    "urPairsPreTraining = urPairs[20000:]\n",
    "ratingsPreTraining = ratings[20000:]\n",
    "\n",
    "for i,(user,recipe) in enumerate(urPairsPreTraining):\n",
    "    r = ratingsPreTraining[i]\n",
    "    allRatings.append(r)\n",
    "    userRatings[user].append(r)\n",
    "    recipeRatings[recipe].append(r)"
   ]
  },
  {
   "cell_type": "code",
   "execution_count": 7,
   "id": "0e10f2f8-b6f1-4bf6-b46f-95913c7ad7dc",
   "metadata": {},
   "outputs": [],
   "source": [
    "# Average Data"
   ]
  },
  {
   "cell_type": "code",
   "execution_count": 8,
   "id": "1461e8aa-258a-4131-89e6-877b2de804a4",
   "metadata": {
    "tags": []
   },
   "outputs": [],
   "source": [
    "globalAverage = sum(allRatings) / len(allRatings)\n",
    "userAverage = {}\n",
    "recipeAverage = {}\n",
    "for u in userRatings:\n",
    "    userAverage[u] = sum(userRatings[u]) / len(userRatings[u])\n",
    "for r in recipeRatings:\n",
    "    recipeAverage[r] = sum(recipeRatings[r]) / len(recipeRatings[r])"
   ]
  },
  {
   "cell_type": "code",
   "execution_count": null,
   "id": "e069cfca-d134-4efa-9238-591fed91e13c",
   "metadata": {},
   "outputs": [],
   "source": []
  },
  {
   "cell_type": "code",
   "execution_count": 9,
   "id": "875cc0a8-b111-4f46-aa4e-a4b995bc2798",
   "metadata": {},
   "outputs": [],
   "source": [
    "def weightedAverage(n1, n2, w1):\n",
    "    w2 = 1-w1\n",
    "    return (n1*w1+n2*w2)\n",
    "\n",
    "def MSE(pred, Y):\n",
    "    return mean_squared_error(Y,pred)\n",
    "\n",
    "def predict(urPairs, weight):\n",
    "    pred = []\n",
    "    for u,r in urPairs:\n",
    "        if u in userAverage and r in recipeAverage:\n",
    "            #print(\"ur\")\n",
    "            pred.append(weightedAverage(userAverage[u],recipeAverage[r],weight))\n",
    "        elif u in userAverage:\n",
    "            #print(\"u\")\n",
    "            pred.append(userAverage[u])\n",
    "        elif r in recipeAverage:\n",
    "            #print(\"r\")\n",
    "            pred.append(recipeAverage[r])\n",
    "        else:\n",
    "            #print(\"-\")\n",
    "            pred.append(globalAverage)\n",
    "    return pred\n",
    "            "
   ]
  },
  {
   "cell_type": "code",
   "execution_count": 10,
   "id": "8c6ace4d-0e7d-42a3-a51f-c8f34e405aa3",
   "metadata": {},
   "outputs": [],
   "source": [
    "def train(weight):\n",
    "    pred = predict(urPairsTraining,weight)\n",
    "    print(MSE(pred,ratingsTraining))"
   ]
  },
  {
   "cell_type": "code",
   "execution_count": null,
   "id": "690e121e-2355-4f25-a413-75f19725b0a8",
   "metadata": {
    "tags": []
   },
   "outputs": [],
   "source": []
  },
  {
   "cell_type": "code",
   "execution_count": null,
   "id": "86f28a55-0ddf-40da-bdec-fd928698107c",
   "metadata": {},
   "outputs": [],
   "source": []
  },
  {
   "cell_type": "code",
   "execution_count": null,
   "id": "b2c2a81b-97d6-42af-ae7d-59b22d148674",
   "metadata": {},
   "outputs": [],
   "source": []
  },
  {
   "cell_type": "code",
   "execution_count": 11,
   "id": "620c2844-91cd-4b38-b41e-dd1cf2d036aa",
   "metadata": {},
   "outputs": [
    {
     "name": "stdout",
     "output_type": "stream",
     "text": [
      "0.8265626076902222\n"
     ]
    }
   ],
   "source": [
    "train(.70)"
   ]
  },
  {
   "cell_type": "code",
   "execution_count": 12,
   "id": "eb6393b2-66e8-4ce2-8273-2d4fd666f183",
   "metadata": {},
   "outputs": [
    {
     "name": "stdout",
     "output_type": "stream",
     "text": [
      "0.8256401469974267\n"
     ]
    }
   ],
   "source": [
    "train(.71)"
   ]
  },
  {
   "cell_type": "code",
   "execution_count": 13,
   "id": "8aa167eb-9b74-478c-b574-cdaeef2b00b6",
   "metadata": {},
   "outputs": [
    {
     "name": "stdout",
     "output_type": "stream",
     "text": [
      "0.8247885588963234\n"
     ]
    }
   ],
   "source": [
    "train(.72)"
   ]
  },
  {
   "cell_type": "code",
   "execution_count": 14,
   "id": "a42fabad-f71c-4cb7-8b4a-2b77e95ff089",
   "metadata": {},
   "outputs": [
    {
     "name": "stdout",
     "output_type": "stream",
     "text": [
      "0.8240078433869121\n"
     ]
    }
   ],
   "source": [
    "train(.73)"
   ]
  },
  {
   "cell_type": "code",
   "execution_count": 15,
   "id": "c5e56c5b-c9ae-401e-b392-40db3c05f37f",
   "metadata": {},
   "outputs": [
    {
     "name": "stdout",
     "output_type": "stream",
     "text": [
      "0.8232980004691928\n"
     ]
    }
   ],
   "source": [
    "train(.74)"
   ]
  },
  {
   "cell_type": "code",
   "execution_count": 16,
   "id": "96be06c0-7340-4c83-938d-39ca24d2a434",
   "metadata": {},
   "outputs": [
    {
     "name": "stdout",
     "output_type": "stream",
     "text": [
      "0.8226590301431655\n"
     ]
    }
   ],
   "source": [
    "train(.75)"
   ]
  },
  {
   "cell_type": "code",
   "execution_count": 17,
   "id": "31aaa47b-f403-4c31-bbdc-978f6baa9924",
   "metadata": {},
   "outputs": [
    {
     "name": "stdout",
     "output_type": "stream",
     "text": [
      "0.8220909324088306\n"
     ]
    }
   ],
   "source": [
    "train(.76)"
   ]
  },
  {
   "cell_type": "code",
   "execution_count": 18,
   "id": "0a74ff65-424d-46a2-ad93-ece26ab2dbdc",
   "metadata": {},
   "outputs": [
    {
     "name": "stdout",
     "output_type": "stream",
     "text": [
      "0.8215937072661876\n"
     ]
    }
   ],
   "source": [
    "train(.77)"
   ]
  },
  {
   "cell_type": "code",
   "execution_count": 19,
   "id": "b5866141-ab9d-49d1-8eb8-780ebf56c2d8",
   "metadata": {},
   "outputs": [
    {
     "name": "stdout",
     "output_type": "stream",
     "text": [
      "0.8211673547152369\n"
     ]
    }
   ],
   "source": [
    "train(.78)"
   ]
  },
  {
   "cell_type": "code",
   "execution_count": 20,
   "id": "c44c819d-ce81-4819-a55a-284ac785a53a",
   "metadata": {},
   "outputs": [
    {
     "name": "stdout",
     "output_type": "stream",
     "text": [
      "0.8208118747559782\n"
     ]
    }
   ],
   "source": [
    "train(.79)"
   ]
  },
  {
   "cell_type": "code",
   "execution_count": 21,
   "id": "f79f72f3-4c15-4009-8470-f5d1d066a12d",
   "metadata": {},
   "outputs": [
    {
     "name": "stdout",
     "output_type": "stream",
     "text": [
      "0.8205272673884115\n"
     ]
    }
   ],
   "source": [
    "train(.8)"
   ]
  },
  {
   "cell_type": "code",
   "execution_count": 22,
   "id": "94269f08-eb3b-4c88-9cc1-f6809d4e32b8",
   "metadata": {},
   "outputs": [
    {
     "name": "stdout",
     "output_type": "stream",
     "text": [
      "0.8203135326125369\n"
     ]
    }
   ],
   "source": [
    "train(.81)"
   ]
  },
  {
   "cell_type": "code",
   "execution_count": 23,
   "id": "d2cf5a24-85a9-4ea1-9512-bc345c719c68",
   "metadata": {},
   "outputs": [
    {
     "name": "stdout",
     "output_type": "stream",
     "text": [
      "0.8201706704283545\n"
     ]
    }
   ],
   "source": [
    "train(.82)"
   ]
  },
  {
   "cell_type": "code",
   "execution_count": 24,
   "id": "01824ed2-0e1b-4c8f-9898-b37654d2bec2",
   "metadata": {},
   "outputs": [
    {
     "name": "stdout",
     "output_type": "stream",
     "text": [
      "0.8200986808358641\n"
     ]
    }
   ],
   "source": [
    "train(.83)"
   ]
  },
  {
   "cell_type": "code",
   "execution_count": 25,
   "id": "6bbc4625-ef16-42f9-984d-23178091acdd",
   "metadata": {},
   "outputs": [
    {
     "name": "stdout",
     "output_type": "stream",
     "text": [
      "0.8200975638350657\n"
     ]
    }
   ],
   "source": [
    "train(.84)"
   ]
  },
  {
   "cell_type": "code",
   "execution_count": 26,
   "id": "ef289542-c111-4f0f-8a72-a936b568354a",
   "metadata": {},
   "outputs": [
    {
     "name": "stdout",
     "output_type": "stream",
     "text": [
      "0.8201673194259594\n"
     ]
    }
   ],
   "source": [
    "train(.85)"
   ]
  },
  {
   "cell_type": "code",
   "execution_count": 27,
   "id": "c691ce69-d49e-45d1-b82c-3c8c119bb51f",
   "metadata": {},
   "outputs": [
    {
     "name": "stdout",
     "output_type": "stream",
     "text": [
      "0.8203079476085453\n"
     ]
    }
   ],
   "source": [
    "train(.86)"
   ]
  },
  {
   "cell_type": "code",
   "execution_count": 28,
   "id": "bee16d28-9d21-4033-b4ff-0c94549bcbbb",
   "metadata": {},
   "outputs": [
    {
     "name": "stdout",
     "output_type": "stream",
     "text": [
      "0.8205194483828234\n"
     ]
    }
   ],
   "source": [
    "train(.87)"
   ]
  },
  {
   "cell_type": "code",
   "execution_count": 29,
   "id": "81173381-992b-4b29-a36f-08013906c900",
   "metadata": {},
   "outputs": [
    {
     "name": "stdout",
     "output_type": "stream",
     "text": [
      "0.8208018217487933\n"
     ]
    }
   ],
   "source": [
    "train(.88)"
   ]
  },
  {
   "cell_type": "code",
   "execution_count": 30,
   "id": "0e247b3d-8d41-4e18-b47b-18ef7e16018d",
   "metadata": {},
   "outputs": [
    {
     "name": "stdout",
     "output_type": "stream",
     "text": [
      "0.8211550677064555\n"
     ]
    }
   ],
   "source": [
    "train(.89)"
   ]
  },
  {
   "cell_type": "code",
   "execution_count": 31,
   "id": "e7757470-f942-48f1-a499-e40280ea989b",
   "metadata": {},
   "outputs": [
    {
     "name": "stdout",
     "output_type": "stream",
     "text": [
      "0.8215791862558097\n"
     ]
    }
   ],
   "source": [
    "train(.9)"
   ]
  },
  {
   "cell_type": "code",
   "execution_count": 37,
   "id": "1f4bb20d-2033-43bc-a17a-de4f3f1bcc3c",
   "metadata": {},
   "outputs": [],
   "source": [
    "predictions = open(\"predictions_Rated.txt\", 'w')\n",
    "for l in open(\"stub_Rated.txt\"):\n",
    "    if l.startswith(\"user_id\"):\n",
    "        #header\n",
    "        predictions.write(l)\n",
    "        continue\n",
    "    u,i = l.strip().split('-')\n",
    "    p = predict([[u,i]],.84)[0]\n",
    "    #print(p)\n",
    "    predictions.write(u + '-' + i + ',' + str(p) + '\\n')\n",
    "  \n",
    "predictions.close()\n",
    "\n"
   ]
  },
  {
   "cell_type": "code",
   "execution_count": null,
   "id": "edf6b65f-8551-4cf1-b969-7b26dab3a738",
   "metadata": {},
   "outputs": [],
   "source": []
  }
 ],
 "metadata": {
  "kernelspec": {
   "display_name": "Python 3.8.9 64-bit",
   "language": "python",
   "name": "python3"
  },
  "language_info": {
   "codemirror_mode": {
    "name": "ipython",
    "version": 3
   },
   "file_extension": ".py",
   "mimetype": "text/x-python",
   "name": "python",
   "nbconvert_exporter": "python",
   "pygments_lexer": "ipython3",
   "version": "3.8.9"
  },
  "vscode": {
   "interpreter": {
    "hash": "31f2aee4e71d21fbe5cf8b01ff0e069b9275f58929596ceb00d14d90e3e16cd6"
   }
  }
 },
 "nbformat": 4,
 "nbformat_minor": 5
}
