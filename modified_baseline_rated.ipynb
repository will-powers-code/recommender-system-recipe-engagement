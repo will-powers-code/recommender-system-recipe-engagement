{
 "cells": [
  {
   "cell_type": "code",
   "execution_count": 1,
   "id": "3f5649eb-2dee-4558-ac4f-83ca2d798503",
   "metadata": {},
   "outputs": [],
   "source": [
    "import gzip\n",
    "import csv\n",
    "import random\n",
    "import math\n",
    "\n",
    "def readCSV(path):\n",
    "    f = gzip.open(path, 'rt')\n",
    "    c = csv.reader(f)\n",
    "    header = next(c)\n",
    "    for l in c:\n",
    "        d = dict(zip(header,l))\n",
    "        yield d['user_id'],d['recipe_id'],d\n",
    "\n",
    "from collections import defaultdict\n",
    "\n",
    "#Collect Data from file\n",
    "userRecipeDataFULL = []\n",
    "didCookFULL = []\n",
    "\n",
    "usersPerRecipeTotal = defaultdict(set) \n",
    "recipesPerUserTotal = defaultdict(set)\n",
    "\n",
    "count = 0\n",
    "\n",
    "# - read from trainInteractions.csv.gz\n",
    "for u,r,_ in readCSV(\"trainInteractions.csv.gz\"):\n",
    "    if count >100000:\n",
    "        break\n",
    "    # Create Training set (small to start)\n",
    "    userRecipeDataFULL.append([u,r])\n",
    "    usersPerRecipeTotal[r].add(u)\n",
    "    recipesPerUserTotal[u].add(r)\n",
    "    didCookFULL.append(1)\n",
    "    count +=1 \n",
    "    "
   ]
  },
  {
   "cell_type": "code",
   "execution_count": 2,
   "id": "0e25b9e7-9a35-4589-9161-8ea5d151f584",
   "metadata": {},
   "outputs": [],
   "source": [
    "recipes = list(usersPerRecipeTotal)\n",
    "\n",
    "newUserRecipeData = []\n",
    "for u,r in userRecipeDataFULL:\n",
    "    newRecipe = None\n",
    "    while newRecipe == None or newRecipe in recipesPerUserTotal[u]:\n",
    "        newRecipe = random.choice(recipes)\n",
    "    newUserRecipeData.append([u,newRecipe])\n",
    "    didCookFULL.append(0)\n",
    "userRecipeDataFULL.extend(newUserRecipeData)\n",
    "\n",
    "\n",
    "randomIndices = list(range(len(userRecipeDataFULL)))\n",
    "random.shuffle(randomIndices)\n",
    "\n",
    "\n",
    "userRecipeData_Suffled = []\n",
    "didCook_Suffled = []\n",
    "\n",
    "for ri in randomIndices:\n",
    "    userRecipeData_Suffled.append(userRecipeDataFULL[ri])\n",
    "    didCook_Suffled.append(didCookFULL[ri])\n",
    "    \n",
    "userRecipeDataFULL=userRecipeData_Suffled\n",
    "didCookFULL=didCook_Suffled\n",
    "\n",
    "CookPerUserRecipeFULL = defaultdict(int)\n",
    "\n",
    "for i,(u,r) in enumerate(userRecipeDataFULL):\n",
    "    CookPerUserRecipeFULL[(u,r)] = didCookFULL[i]\n"
   ]
  },
  {
   "cell_type": "code",
   "execution_count": 3,
   "id": "0f19f388-d285-4253-88be-5001cb43f583",
   "metadata": {},
   "outputs": [],
   "source": [
    "import math\n",
    "def Cosine(i1, i2):\n",
    "    # Between two items\n",
    "    inter = usersPerRecipeTotal[i1].intersection(usersPerRecipeTotal[i2]) \n",
    "    numer = sum([CookPerUserRecipeFULL[(u,i1)]*CookPerUserRecipeFULL[(u,i2)] for u in inter])\n",
    "    norm1 = sum([CookPerUserRecipeFULL[(u,i1)]**2 for u in usersPerRecipeTotal[i1]])\n",
    "    norm2 = sum([CookPerUserRecipeFULL[(u,i2)]**2 for u in usersPerRecipeTotal[i2]])\n",
    "    denom = math.sqrt(norm1) * math.sqrt(norm2)\n",
    "    if denom == 0: return 0 # If one of the two items has noratings\n",
    "    return numer / denom"
   ]
  },
  {
   "cell_type": "code",
   "execution_count": 4,
   "id": "efef39a9-d249-40fa-ac77-74ad2d7e342d",
   "metadata": {},
   "outputs": [],
   "source": [
    "def cosineFeature(u,i):\n",
    "    sims = []\n",
    "    for i2 in recipesPerUserTotal[u]:\n",
    "        if i2 != i:\n",
    "            sims.append(Cosine(i, i2))\n",
    "    return max(sims) if len(sims)>0 else 0"
   ]
  },
  {
   "cell_type": "code",
   "execution_count": 5,
   "id": "b574e847-c0b4-4219-a4c1-f90a71ecea6c",
   "metadata": {},
   "outputs": [],
   "source": [
    "def cosineFeatures(uiPairs):\n",
    "    features = []\n",
    "    for u,i in uiPairs:\n",
    "        features.append([1, cosineFeature(u,i)])\n",
    "    return features"
   ]
  },
  {
   "cell_type": "code",
   "execution_count": 6,
   "id": "7509ed7d-bfa7-4f40-bf8e-1ae0cf6517ff",
   "metadata": {},
   "outputs": [],
   "source": [
    "cosineFeats = cosineFeatures(userRecipeDataFULL)"
   ]
  },
  {
   "cell_type": "code",
   "execution_count": 7,
   "id": "1caae567-3b84-412e-8de7-6a51e8e7db19",
   "metadata": {},
   "outputs": [
    {
     "data": {
      "text/plain": [
       "0.895261047389526"
      ]
     },
     "execution_count": 7,
     "metadata": {},
     "output_type": "execute_result"
    }
   ],
   "source": [
    "from sklearn.linear_model import LogisticRegression\n",
    "from sklearn.metrics import accuracy_score\n",
    "modelC = LogisticRegression().fit(cosineFeats, didCookFULL)\n",
    "predC = modelC.predict(cosineFeats)\n",
    "accuracy_score(predC,didCookFULL)"
   ]
  },
  {
   "cell_type": "code",
   "execution_count": 8,
   "id": "c00efc6e-2ce3-495c-870d-fa7326561a35",
   "metadata": {},
   "outputs": [],
   "source": [
    "stubUserRecipe = []\n",
    "\n",
    "for l in open(\"stub_Made.txt\"):\n",
    "    if l.startswith(\"user_id\"):\n",
    "        continue\n",
    "    u, r = l.strip().split('-')\n",
    "    stubUserRecipe.append([u, r])"
   ]
  },
  {
   "cell_type": "code",
   "execution_count": 9,
   "id": "ff6cb004-ac4c-460c-9d4d-7cff4d11e749",
   "metadata": {},
   "outputs": [],
   "source": [
    "# Predict Stub\n",
    "featureVectorsS = cosineFeatures(stubUserRecipe)\n",
    "predictions = modelC.predict(featureVectorsS)"
   ]
  },
  {
   "cell_type": "code",
   "execution_count": 10,
   "id": "58fa49f0-4ba1-45a6-885d-beda25bedf97",
   "metadata": {},
   "outputs": [],
   "source": [
    "# Save Stub Predictions to File\n",
    "predictionsFile = open(\"predictions_Made.txt\", 'w')\n",
    "predictionsFile.write(\"user_id-recipe_id,prediction\\n\")\n",
    "\n",
    "for i,(u,r) in enumerate(stubUserRecipe):\n",
    "    predictionsFile.write(u + '-' + r + \",\"+str(predictions[i])+\"\\n\")\n",
    "\n",
    "predictionsFile.close()"
   ]
  },
  {
   "cell_type": "code",
   "execution_count": null,
   "id": "a5ae8b37-f17d-4dc6-831d-c958d4684047",
   "metadata": {},
   "outputs": [],
   "source": []
  }
 ],
 "metadata": {
  "kernelspec": {
   "display_name": "Python 3",
   "language": "python",
   "name": "python3"
  },
  "language_info": {
   "codemirror_mode": {
    "name": "ipython",
    "version": 3
   },
   "file_extension": ".py",
   "mimetype": "text/x-python",
   "name": "python",
   "nbconvert_exporter": "python",
   "pygments_lexer": "ipython3",
   "version": "3.8.8"
  }
 },
 "nbformat": 4,
 "nbformat_minor": 5
}
