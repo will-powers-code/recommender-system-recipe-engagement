{
 "cells": [
  {
   "cell_type": "code",
   "execution_count": null,
   "id": "3dca808c-4d6f-4af5-9085-3f0b4729a671",
   "metadata": {},
   "outputs": [],
   "source": [
    "import gzip\n",
    "from collections import defaultdict\n",
    "from sklearn import linear_model\n",
    "import csv\n",
    "\n",
    "import random\n",
    "from surprise import SVD, Reader, Dataset\n",
    "from surprise.model_selection import train_test_split"
   ]
  },
  {
   "cell_type": "code",
   "execution_count": null,
   "id": "5ae70ceb-18eb-4e30-8c42-00b57138ff2d",
   "metadata": {},
   "outputs": [],
   "source": [
    "def readGz(path):\n",
    "    for l in gzip.open(path, 'rt'):\n",
    "        yield eval(l)\n",
    "\n",
    "def readCSV(path):\n",
    "    f = gzip.open(path, 'rt')\n",
    "    c = csv.reader(f)\n",
    "    header = next(c)\n",
    "    for l in c:\n",
    "        yield l"
   ]
  },
  {
   "cell_type": "code",
   "execution_count": null,
   "id": "a4e6fb41-4209-4f0f-be0d-81e31dceeaa0",
   "metadata": {},
   "outputs": [],
   "source": [
    "interactions = open(\"trainInteractions.tsv\", 'w')\n",
    "for l in readCSV(\"trainInteractions.csv.gz\"):\n",
    "    user,recipeId,date,rating = l\n",
    "    l1 = \"\\t\".join([user,recipeId,rating])\n",
    "    interactions.write(l1+\"\\n\")"
   ]
  },
  {
   "cell_type": "code",
   "execution_count": null,
   "id": "83ac2de7-0d46-4ba8-8d78-9bf6ea410277",
   "metadata": {},
   "outputs": [],
   "source": [
    "from surprise import SVD, NormalPredictor\n",
    "from surprise.model_selection import GridSearchCV\n",
    "\n",
    "reader = Reader(line_format='user item rating', sep='\\t')\n",
    "data = Dataset.load_from_file(\"trainInteractions.tsv\", reader=reader)\n",
    "\n",
    "param_grid = {'reg_all':[0.5,0.01,0.1,.05,.005,.001]}\n",
    "gs = GridSearchCV(SVD, param_grid, measures=['mse'], cv=3)\n",
    "gs.fit(data)\n",
    "params = gs.best_params['mse']\n",
    "svdtuned = SVD(n_factors=params['n_factors'], n_epochs=params['n_epochs'],lr_all=params['lr_all'], reg_all=params['reg_all'])"
   ]
  },
  {
   "cell_type": "code",
   "execution_count": null,
   "id": "3eadef7f",
   "metadata": {},
   "outputs": [],
   "source": [
    "print(params)"
   ]
  },
  {
   "cell_type": "code",
   "execution_count": null,
   "id": "3536c90d-0c67-4ba7-b7db-0d7330c05b15",
   "metadata": {},
   "outputs": [],
   "source": [
    "svdtuned.fit(data.build_full_trainset())"
   ]
  },
  {
   "cell_type": "code",
   "execution_count": null,
   "id": "b8cc7669-5ae7-4449-a8a7-c20cd8ab3cde",
   "metadata": {},
   "outputs": [],
   "source": [
    "# reader = Reader(line_format='user item rating', sep='\\t')\n",
    "# data = Dataset.load_from_file(\"trainInteractions.tsv\", reader=reader)\n",
    "# model = SVD()\n",
    "# model.fit(data.build_full_trainset())"
   ]
  },
  {
   "cell_type": "code",
   "execution_count": null,
   "id": "bf6cb6d0-6d58-4af2-b5a6-aee8851b6d6f",
   "metadata": {},
   "outputs": [],
   "source": [
    "# allRatings = []\n",
    "# userRatings = defaultdict(list)\n",
    "\n",
    "# for user,recipe,d in readCSV(\"trainInteractions.csv.gz\"):\n",
    "#   r = int(d['rating'])\n",
    "#   allRatings.append(r)\n",
    "#   userRatings[user].append(r)\n",
    "\n",
    "# globalAverage = sum(allRatings) / len(allRatings)\n",
    "# userAverage = {}\n",
    "# for u in userRatings:\n",
    "#   userAverage[u] = sum(userRatings[u]) / len(userRatings[u])\n",
    "\n",
    "predictionFile = open(\"predictions_Rated.txt\", 'w')\n",
    "for l in open(\"stub_Rated.txt\"):\n",
    "    if l.startswith(\"user_id\"):\n",
    "        #header\n",
    "        predictionFile.write(l)\n",
    "        continue\n",
    "    u,i = l.strip().split('-')\n",
    "    pred = svdtuned.predict(u,i)\n",
    "    predictionFile.write(u + '-' + i + ',' + str(pred.est) + '\\n')\n",
    "\n",
    "predictionFile.close()\n",
    "\n"
   ]
  }
 ],
 "metadata": {
  "kernelspec": {
   "display_name": "Python 3.8.8 ('base')",
   "language": "python",
   "name": "python3"
  },
  "language_info": {
   "codemirror_mode": {
    "name": "ipython",
    "version": 3
   },
   "file_extension": ".py",
   "mimetype": "text/x-python",
   "name": "python",
   "nbconvert_exporter": "python",
   "pygments_lexer": "ipython3",
   "version": "3.8.8"
  },
  "vscode": {
   "interpreter": {
    "hash": "8efc9bae7c22fd228a793b0a1ef881661f951fb64f06a5e766a7b94d7cadaaca"
   }
  }
 },
 "nbformat": 4,
 "nbformat_minor": 5
}
