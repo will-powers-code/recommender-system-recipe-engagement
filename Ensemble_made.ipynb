{
 "cells": [
  {
   "cell_type": "code",
   "execution_count": 1,
   "id": "039c0774-c989-4545-bae9-63467dbec999",
   "metadata": {},
   "outputs": [],
   "source": [
    "#Read in Data"
   ]
  },
  {
   "cell_type": "code",
   "execution_count": 2,
   "id": "6d9e044a-beff-4b9c-bc20-aab509690e2d",
   "metadata": {
    "tags": []
   },
   "outputs": [],
   "source": [
    "import gzip\n",
    "import csv\n",
    "import random\n",
    "import math\n",
    "\n",
    "def readCSV(path):\n",
    "    f = gzip.open(path, 'rt')\n",
    "    c = csv.reader(f)\n",
    "    header = next(c)\n",
    "    for l in c:\n",
    "        d = dict(zip(header,l))\n",
    "        yield d['user_id'],d['recipe_id'],d\n",
    "\n",
    "from collections import defaultdict\n",
    "\n",
    "#Collect Data from file\n",
    "userRecipeDataFULL = []\n",
    "didCookFULL = []\n",
    "\n",
    "usersPerRecipeTotal = defaultdict(set) \n",
    "recipesPerUserTotal = defaultdict(set)\n",
    "\n",
    "# - read from trainInteractions.csv.gz\n",
    "for u,r,_ in readCSV(\"trainInteractions.csv.gz\"):\n",
    "    # Create Training set (small to start)\n",
    "    userRecipeDataFULL.append([u,r])\n",
    "    usersPerRecipeTotal[r].add(u)\n",
    "    recipesPerUserTotal[u].add(r)\n",
    "    didCookFULL.append(1)\n",
    "    "
   ]
  },
  {
   "cell_type": "code",
   "execution_count": 3,
   "id": "c6ce689f-8a85-4184-aabe-5c0206275bfa",
   "metadata": {
    "tags": []
   },
   "outputs": [],
   "source": [
    "# - randomly sample non-cooked item for each U,I pair and add"
   ]
  },
  {
   "cell_type": "code",
   "execution_count": 4,
   "id": "a5fd894d-4a8b-459a-bfe7-f6fa9fcefd76",
   "metadata": {
    "tags": []
   },
   "outputs": [],
   "source": [
    "recipes = list(usersPerRecipeTotal)\n",
    "\n",
    "newUserRecipeData = []\n",
    "for u,r in userRecipeDataFULL:\n",
    "    newRecipe = None\n",
    "    while newRecipe == None or newRecipe in recipesPerUserTotal[u]:\n",
    "        newRecipe = random.choice(recipes)\n",
    "    newUserRecipeData.append([u,newRecipe])\n",
    "    didCookFULL.append(0)\n",
    "userRecipeDataFULL.extend(newUserRecipeData)\n",
    "\n",
    "\n",
    "randomIndices = list(range(len(userRecipeDataFULL)))\n",
    "random.shuffle(randomIndices)\n",
    "\n",
    "\n",
    "userRecipeData_Suffled = []\n",
    "didCook_Suffled = []\n",
    "\n",
    "for ri in randomIndices:\n",
    "    userRecipeData_Suffled.append(userRecipeDataFULL[ri])\n",
    "    didCook_Suffled.append(didCookFULL[ri])\n",
    "    \n",
    "userRecipeDataFULL=userRecipeData_Suffled\n",
    "didCookFULL=didCook_Suffled\n"
   ]
  },
  {
   "cell_type": "code",
   "execution_count": 5,
   "id": "3b3d04fb-b81f-4a82-9665-e41a279ab39d",
   "metadata": {},
   "outputs": [],
   "source": [
    "#smaller portion for processor speed"
   ]
  },
  {
   "cell_type": "code",
   "execution_count": 6,
   "id": "6faecd77-8eb3-4790-9c14-a21a71ed5f0a",
   "metadata": {
    "tags": []
   },
   "outputs": [],
   "source": [
    "size = 10000 #len(userRecipeDataFULL)\n",
    "\n",
    "userRecipeData = userRecipeDataFULL[:size]\n",
    "didCook = didCookFULL[:size]"
   ]
  },
  {
   "cell_type": "code",
   "execution_count": 7,
   "id": "a0c6bfbe-4cdd-4e93-a6f1-fd211e3243e2",
   "metadata": {},
   "outputs": [],
   "source": [
    "# - split into train and validation "
   ]
  },
  {
   "cell_type": "code",
   "execution_count": 8,
   "id": "43444937-e441-43e7-8dc7-bd29f1de2ed3",
   "metadata": {
    "tags": []
   },
   "outputs": [],
   "source": [
    "\n",
    "TrainEnd = round(len(userRecipeData)*.9)\n",
    "ValidationEnd = len(userRecipeData)\n",
    "\n",
    "userRecipeTrain = userRecipeData[:TrainEnd]\n",
    "didCookTrain = didCook[:TrainEnd]\n",
    "userRecipeValidation = userRecipeData[TrainEnd:ValidationEnd]\n",
    "didCookValidation = didCook[TrainEnd:ValidationEnd]"
   ]
  },
  {
   "cell_type": "code",
   "execution_count": 9,
   "id": "2d973af6-0040-45fc-a850-c35d295c5da0",
   "metadata": {},
   "outputs": [],
   "source": [
    "# Create HelperDicts for training"
   ]
  },
  {
   "cell_type": "code",
   "execution_count": 10,
   "id": "ebd4ea16-3804-41a1-9d52-d5bb1287340b",
   "metadata": {
    "tags": []
   },
   "outputs": [],
   "source": [
    "\n",
    "\n",
    "cookedDict = defaultdict(lambda:0)\n",
    "usersPerRecipe = defaultdict(set) \n",
    "recipesPerUser = defaultdict(set) \n",
    "\n",
    "\n",
    "for i, (u,r) in enumerate(userRecipeDataFULL):\n",
    "    usersPerRecipe[r].add(u)\n",
    "    recipesPerUser[u].add(r)\n",
    "    cookedDict[u,r] = didCookFULL[i]\n",
    "    \n",
    "recipesList = list(usersPerRecipe) \n",
    "userList =list(recipesPerUser)"
   ]
  },
  {
   "cell_type": "code",
   "execution_count": 11,
   "id": "759af830-bd5b-4e8b-afc9-d794768a515b",
   "metadata": {},
   "outputs": [],
   "source": [
    "# Jaccard similarity"
   ]
  },
  {
   "cell_type": "code",
   "execution_count": 12,
   "id": "30ea3ee4-016d-4063-b3b3-02fcd2784b8a",
   "metadata": {
    "tags": []
   },
   "outputs": [],
   "source": [
    "def jacardSimilarity(s1,s2):\n",
    "    return len(s1.intersection(s2))/len(s1.union(s2))"
   ]
  },
  {
   "cell_type": "code",
   "execution_count": 13,
   "id": "ab9c89c1-6530-403e-8df2-4bbb9086cd2a",
   "metadata": {
    "tags": []
   },
   "outputs": [],
   "source": [
    "jaccardSimilarityR_Cache = {}\n",
    "jaccardSimilarityU_Cache = {}\n",
    "\n",
    "\n",
    "def jaccardSimilarityRecipe(r1,r2):\n",
    "#     if (r1,r2) in jaccardSimilarityR_Cache:\n",
    "#         return jaccardSimilarityR_Cache[(r1,r2)]\n",
    "#     sim = jacardSimilarity(usersPerRecipe[r1], usersPerRecipe[r2])\n",
    "#     jaccardSimilarityR_Cache[(r1,r2)] = sim\n",
    "#     jaccardSimilarityR_Cache[(r2,r1)] = sim\n",
    "#     return sim\n",
    "    return jacardSimilarity(usersPerRecipe[r1], usersPerRecipe[r2])\n",
    "\n",
    "def jaccardSimilarityUser(u1,u2):\n",
    "#     if (u1,u2) in jaccardSimilarityU_Cache:\n",
    "#         return jaccardSimilarityU_Cache[(u1,u2)]\n",
    "#     sim = jacardSimilarity(recipesPerUser[u1], recipesPerUser[u2])\n",
    "#     jaccardSimilarityU_Cache[(u1,u2)] = sim\n",
    "#     jaccardSimilarityU_Cache[(u2,u1)] = sim\n",
    "#     return sim\n",
    "    return jacardSimilarity(recipesPerUser[u1], recipesPerUser[u2])\n"
   ]
  },
  {
   "cell_type": "code",
   "execution_count": 14,
   "id": "784290bc-228f-447f-a803-40289402e947",
   "metadata": {},
   "outputs": [],
   "source": [
    "# Cosine similarity"
   ]
  },
  {
   "cell_type": "code",
   "execution_count": 15,
   "id": "d2b81936-a312-49cc-9244-f956c5a6e791",
   "metadata": {
    "tags": []
   },
   "outputs": [],
   "source": [
    "def cosineSimilarityR(r1, r2):\n",
    "    norm1 = sum([cookedDict[(u,r1)]**2 for u in usersPerRecipe[r1]])    \n",
    "    norm2 = sum([cookedDict[(u,r2)]**2 for u in usersPerRecipe[r2]])\n",
    "    denom = math.sqrt(norm1) * math.sqrt(norm2)\n",
    " \n",
    "    if denom == 0: return 0\n",
    "    \n",
    "    inter = usersPerRecipe[r1].intersection(usersPerRecipe[r2]) \n",
    "    numer = sum([cookedDict[(u,r1)]*cookedDict[(u,r2)] for u in inter])\n",
    "    \n",
    "    return numer / denom\n",
    "\n",
    "def cosineSimilarityU(u1, u2):\n",
    "    norm1 = sum([cookedDict[(u1,r)]**2 for r in recipesPerUser[u1]])    \n",
    "    norm2 = sum([cookedDict[(u2,r)]**2 for r in recipesPerUser[u2]])\n",
    "    denom = math.sqrt(norm1) * math.sqrt(norm2)\n",
    " \n",
    "    if denom == 0: return 0\n",
    "    \n",
    "    inter = recipesPerUser[u1].intersection(recipesPerUser[u2]) \n",
    "    numer = sum([cookedDict[(u1,r)]*cookedDict[(u2,r)] for r in inter])\n",
    "\n",
    "    return numer / denom"
   ]
  },
  {
   "cell_type": "code",
   "execution_count": 16,
   "id": "788e420a-6111-487a-969a-cd6550ebfd91",
   "metadata": {
    "tags": []
   },
   "outputs": [],
   "source": [
    "cosineSimilarityR_Cache = {}\n",
    "cosineSimilarityU_Cache = {}\n",
    "\n",
    "\n",
    "def cosineSimilarityRecipe(r1,r2):\n",
    "#     if (r1,r2) in cosineSimilarityR_Cache:\n",
    "#         return cosineSimilarityR_Cache[(r1,r2)]\n",
    "#     sim = cosineSimilarityR(r1, r2)\n",
    "#     cosineSimilarityR_Cache[(r1,r2)] = sim\n",
    "#     cosineSimilarityR_Cache[(r2,r1)] = sim\n",
    "#     return sim\n",
    "    return cosineSimilarityR(r1, r2)\n",
    "\n",
    "def cosineSimilarityUser(u1,u2):\n",
    "#     if (u1,u2) in cosineSimilarityU_Cache:\n",
    "#         return cosineSimilarityU_Cache[(u1,u2)]\n",
    "#     sim = cosineSimilarityU(u1, u2)\n",
    "#     cosineSimilarityU_Cache[(u1,u2)] = sim\n",
    "#     cosineSimilarityU_Cache[(u2,u1)] = sim\n",
    "#     return sim\n",
    "    return cosineSimilarityU(u1, u2)"
   ]
  },
  {
   "cell_type": "code",
   "execution_count": 17,
   "id": "5c1c5fbb-b92f-4a5c-b194-4946c487a403",
   "metadata": {},
   "outputs": [],
   "source": [
    "# Pearson Similarity "
   ]
  },
  {
   "cell_type": "code",
   "execution_count": 18,
   "id": "4a57ec18-ef47-43f4-bdf7-1b9d4a101bfa",
   "metadata": {
    "tags": []
   },
   "outputs": [],
   "source": [
    "def pearsonSimilarityRecipe(r1, r2):\n",
    "    # Between two items\n",
    "    iBar1 = len(usersPerRecipe[r1])/len(recipesPerUser)\n",
    "    iBar2 = len(usersPerRecipe[r2])/len(recipesPerUser)\n",
    "    inter = usersPerRecipe[r1].intersection(usersPerRecipe[r2]) \n",
    "    numer = denom1 = denom2 = 0\n",
    "    for u in inter:\n",
    "        numer += (cookedDict[(u,r1)] - iBar1)*(cookedDict[(u ,r2)] - iBar2) \n",
    "    for u in inter:\n",
    "        denom1 += (cookedDict[(u,r1)] - iBar1)**2 \n",
    "        denom2 += (cookedDict[(u,r2)] - iBar2)**2\n",
    "    denom = math.sqrt(denom1) * math.sqrt(denom2) \n",
    "    if denom == 0: return 0\n",
    "    return numer / denom\n",
    "\n",
    "def pearsonSimilarityUser(u1, u2):\n",
    "    # Between two items\n",
    "    iBar1 = len(recipesPerUser[u1])/len(recipesPerUser)\n",
    "    iBar2 = len(recipesPerUser[u2])/len(recipesPerUser)\n",
    "    inter = recipesPerUser[u1].intersection(recipesPerUser[u2]) \n",
    "    numer = denom1 = denom2 = 0\n",
    "    for u in inter:\n",
    "        numer += (cookedDict[(u1,r)] - iBar1)*(cookedDict[(u2,r)] - iBar2) \n",
    "    for u in inter:\n",
    "        denom1 += (cookedDict[(u1,r)] - iBar1)**2 \n",
    "        denom2 += (cookedDict[(u2,r)] - iBar2)**2\n",
    "    denom = math.sqrt(denom1) * math.sqrt(denom2) \n",
    "    if denom == 0: return 0\n",
    "    return numer / denom\n",
    "   "
   ]
  },
  {
   "cell_type": "code",
   "execution_count": 19,
   "id": "84bfea35-3ef4-42a1-864c-a61bb9af22a0",
   "metadata": {},
   "outputs": [],
   "source": [
    "# popularity "
   ]
  },
  {
   "cell_type": "code",
   "execution_count": 20,
   "id": "abdea067-d15d-4e96-9da1-c779d3c7a708",
   "metadata": {
    "tags": []
   },
   "outputs": [],
   "source": [
    "\n",
    "popularityRecipe = {}\n",
    "for r in usersPerRecipe:\n",
    "    popularityRecipe[r] = len(usersPerRecipe[r])\n",
    "    \n",
    "maxPop = max(popularityRecipe.values())\n",
    "popularitiesTotal = 0\n",
    "for r in popularityRecipe:\n",
    "    popularityRecipe[r] = popularityRecipe[r]/maxPop\n",
    "    popularitiesTotal += popularityRecipe[r]\n",
    "\n",
    "avgPopularity = popularitiesTotal/len(popularityRecipe)\n"
   ]
  },
  {
   "cell_type": "code",
   "execution_count": 21,
   "id": "773dd1e5-d974-412f-b3bf-7be79e589ff1",
   "metadata": {
    "tags": []
   },
   "outputs": [],
   "source": [
    "\n",
    "def extractPopularityFeaturesRecipe(u,r):\n",
    "    if r in popularityRecipe:\n",
    "        return popularityRecipe[r]\n",
    "    else:\n",
    "        return avgPopularity\n",
    "\n",
    "\n",
    "def extractPopularityFeaturesUser(u,r):\n",
    "    userRecipePopularities = [popularityRecipe[r] for r in recipesPerUser[u]]\n",
    "    if len(userRecipePopularities) == 0 :\n",
    "        return avgPopularity\n",
    "    else:\n",
    "        return sum(userRecipePopularities)/len(userRecipePopularities)"
   ]
  },
  {
   "cell_type": "code",
   "execution_count": 22,
   "id": "53d01537-bfc2-438d-8b1b-3e991da85f44",
   "metadata": {},
   "outputs": [],
   "source": [
    "# Extract Features for Similarity funcs"
   ]
  },
  {
   "cell_type": "code",
   "execution_count": 23,
   "id": "e47629fa-97d0-4975-84cb-1313d8fdc85c",
   "metadata": {
    "tags": []
   },
   "outputs": [],
   "source": [
    "# Extract Feature Functions\n",
    "\n",
    "def extractSimilarityFeatures_JaccardRecipe(user,recipe):\n",
    "    recipeSet = recipesPerUser[user]\n",
    "    similarities = []\n",
    "    for r2 in recipeSet:\n",
    "        similarities.append(jaccardSimilarityRecipe(recipe,r2))\n",
    "    if len(similarities) == 0 : return 0\n",
    "    return sum(similarities)/len(similarities)\n",
    "\n",
    "def extractSimilarityFeatures_JaccardUser(user,recipe):\n",
    "    userSet = usersPerRecipe[recipe]\n",
    "    similarities = []\n",
    "    for u2 in userSet:\n",
    "        similarities.append(jaccardSimilarityUser(user,u2))\n",
    "    if len(similarities) == 0 : return 0\n",
    "    return sum(similarities)/len(similarities)\n",
    "\n",
    "def extractSimilarityFeatures_CosineRecipe(user,recipe):\n",
    "    recipeSet = recipesPerUser[user]\n",
    "    similarities = []\n",
    "    for r2 in recipeSet:\n",
    "        similarities.append(cosineSimilarityRecipe(recipe,r2))\n",
    "    if len(similarities) == 0 : return 0\n",
    "    return sum(similarities)/len(similarities)\n",
    "\n",
    "def extractSimilarityFeatures_CosineUser(user,recipe):\n",
    "    userSet = usersPerRecipe[recipe]\n",
    "    similarities = []\n",
    "    for u2 in userSet:\n",
    "        similarities.append(cosineSimilarityUser(user,u2))\n",
    "    if len(similarities) == 0 : return 0\n",
    "    return sum(similarities)/len(similarities)\n",
    "\n",
    "def extractSimilarityFeatures_PearsonRecipe(user,recipe):\n",
    "    recipeSet = recipesPerUser[user]\n",
    "    similarities = []\n",
    "    for r2 in recipeSet:\n",
    "        similarities.append(pearsonSimilarityRecipe(recipe,r2))\n",
    "    if len(similarities) == 0 : return 0\n",
    "    return sum(similarities)/len(similarities)\n",
    "\n",
    "def extractSimilarityFeatures_PearsonUser(user,recipe):\n",
    "    userSet = usersPerRecipe[recipe]\n",
    "    similarities = []\n",
    "    for u2 in userSet:\n",
    "        similarities.append(pearsonSimilarityUser(user,u2))\n",
    "    if len(similarities) == 0 : return 0\n",
    "    return sum(similarities)/len(similarities)\n"
   ]
  },
  {
   "cell_type": "code",
   "execution_count": null,
   "id": "97894d98-0b21-4d93-9157-e66f02d76bc9",
   "metadata": {},
   "outputs": [],
   "source": []
  },
  {
   "cell_type": "code",
   "execution_count": 24,
   "id": "e93f5df4-4839-4578-bbd6-3e5fa369d964",
   "metadata": {
    "tags": []
   },
   "outputs": [],
   "source": [
    "def accuracy(pred,y):\n",
    "    return sum([p ==y for p,y in zip(pred,y)])/len(pred)"
   ]
  },
  {
   "cell_type": "code",
   "execution_count": 25,
   "id": "abf06d96-4093-4dd8-aec1-6cbe3b108342",
   "metadata": {
    "tags": []
   },
   "outputs": [],
   "source": [
    "from sklearn.linear_model import LogisticRegression"
   ]
  },
  {
   "cell_type": "code",
   "execution_count": 26,
   "id": "a39a2ffb-6c8c-46f7-8a4c-c4f434169ad7",
   "metadata": {},
   "outputs": [],
   "source": [
    "# get features"
   ]
  },
  {
   "cell_type": "code",
   "execution_count": 27,
   "id": "0e0eda38-3679-4d9f-a41e-1aa744d81187",
   "metadata": {},
   "outputs": [],
   "source": [
    "def extractFeatures(urPairs):\n",
    "    \n",
    "    featureFunctions = [#extractSimilarityFeatures_JaccardRecipe,\n",
    "        #extractSimilarityFeatures_JaccardUser,\n",
    "        extractSimilarityFeatures_CosineRecipe,\n",
    "        #extractSimilarityFeatures_CosineUser,\n",
    "        #extractSimilarityFeatures_PearsonRecipe,\n",
    "        #extractSimilarityFeatures_PearsonUser,\n",
    "        #extractPopularityFeaturesUser,\n",
    "        #extractPopularityFeaturesRecipe\n",
    "    ]\n",
    "    \n",
    "    featureVectors = []\n",
    "    for fi, f in enumerate(featureFunctions):\n",
    "        featureVectors.append([])\n",
    "        for i,(u,r) in enumerate(urPairs):\n",
    "            featureVectors[fi].append([1, f(u,r)])\n",
    "    return featureVectors"
   ]
  },
  {
   "cell_type": "code",
   "execution_count": 28,
   "id": "b06c3291-3f37-41b6-83b0-0879151f0d82",
   "metadata": {
    "tags": []
   },
   "outputs": [],
   "source": [
    "featureVectors = extractFeatures(userRecipeTrain)"
   ]
  },
  {
   "cell_type": "code",
   "execution_count": null,
   "id": "d3a2ddb6-e9ac-454a-b6a4-d07b115b21a0",
   "metadata": {},
   "outputs": [],
   "source": []
  },
  {
   "cell_type": "code",
   "execution_count": null,
   "id": "e6ac6cd8-203d-4c67-8f2f-ac265273cdb8",
   "metadata": {},
   "outputs": [],
   "source": []
  },
  {
   "cell_type": "code",
   "execution_count": 29,
   "id": "26c7d643-51e2-4ea7-bec7-199ecd444edb",
   "metadata": {},
   "outputs": [],
   "source": [
    "#Esemble\n",
    "def trainEnsemble(featureVectors, Y):\n",
    "    featureModels = []\n",
    "    trainPredictions = []\n",
    "    for fv in featureVectors:\n",
    "        newModel = LogisticRegression()\n",
    "        newModel.fit(fv,Y)\n",
    "        preds = newModel.predict(fv)\n",
    "        featureModels.append(newModel)\n",
    "        trainPredictions.append(preds)\n",
    "    # Add Bias\n",
    "    ensembleFeatures = []\n",
    "    for i in range(len(trainPredictions[0])):\n",
    "        ensembleFeatures.append([1])\n",
    "        for j in range(len(trainPredictions)):\n",
    "            ensembleFeatures[i].append(trainPredictions[j][i])\n",
    "    ensembleModel = LogisticRegression()\n",
    "    ensembleModel.fit(ensembleFeatures,Y)\n",
    "    ensemblePredictions = ensembleModel.predict(ensembleFeatures)\n",
    "    return featureModels,ensembleFeatures,ensembleModel,ensemblePredictions\n",
    "    "
   ]
  },
  {
   "cell_type": "code",
   "execution_count": 30,
   "id": "580f4e3c-fb8b-41db-b899-d5dd091f8673",
   "metadata": {},
   "outputs": [],
   "source": [
    "def predictWithEnsemble(featureVectors,featureModels,ensembleModel):\n",
    "    trainPredictions = []\n",
    "    for i,fv in enumerate(featureVectors):\n",
    "        trainPredictions.append(featureModels[i].predict(fv))\n",
    "    # Add Bias\n",
    "    ensembleFeatures = []\n",
    "    for i in range(len(trainPredictions[0])):\n",
    "        ensembleFeatures.append([1])\n",
    "        for j in range(len(trainPredictions)):\n",
    "            ensembleFeatures[i].append(trainPredictions[j][i])\n",
    "    predictions =  ensembleModel.predict(ensembleFeatures)\n",
    "    return featureModels,ensembleFeatures,predictions"
   ]
  },
  {
   "cell_type": "code",
   "execution_count": 31,
   "id": "e09a0bdb-35c6-4264-bfb2-50949d2afc02",
   "metadata": {},
   "outputs": [],
   "source": [
    "# Train Model"
   ]
  },
  {
   "cell_type": "code",
   "execution_count": 32,
   "id": "b1b1f4aa-a1ca-4ffd-8f3e-cb928c54153b",
   "metadata": {},
   "outputs": [
    {
     "data": {
      "text/plain": [
       "1"
      ]
     },
     "execution_count": 32,
     "metadata": {},
     "output_type": "execute_result"
    }
   ],
   "source": [
    "len(featureVectors)"
   ]
  },
  {
   "cell_type": "code",
   "execution_count": 33,
   "id": "de3cbadb-4484-473c-a648-3a5ef2499d86",
   "metadata": {},
   "outputs": [
    {
     "name": "stdout",
     "output_type": "stream",
     "text": [
      "training accuracy: 0.8877777777777778\n"
     ]
    }
   ],
   "source": [
    "featureModels,ensembleFeatures,ensembleModel,ensemblePredictions = trainEnsemble(featureVectors,didCookTrain)\n",
    "print(\"training accuracy:\",accuracy(ensemblePredictions,didCookTrain))"
   ]
  },
  {
   "cell_type": "code",
   "execution_count": null,
   "id": "5144113a-5686-4f5d-ac8c-f38a86518145",
   "metadata": {},
   "outputs": [],
   "source": []
  },
  {
   "cell_type": "code",
   "execution_count": 34,
   "id": "aa95f8e2-10a7-4274-8922-a056d58c04a3",
   "metadata": {
    "tags": []
   },
   "outputs": [],
   "source": [
    "# Test on Validation Set"
   ]
  },
  {
   "cell_type": "code",
   "execution_count": 35,
   "id": "c8f36186-5f08-4b6e-9b5e-7df1cde68105",
   "metadata": {},
   "outputs": [
    {
     "name": "stdout",
     "output_type": "stream",
     "text": [
      "training accuracy: 0.902\n"
     ]
    }
   ],
   "source": [
    "featureVectorsV = extractFeatures(userRecipeValidation)\n",
    "featureModels_V, ensembleFeatures_V, ensemblePredictions_V = predictWithEnsemble(featureVectorsV,featureModels,ensembleModel)\n",
    "print(\"training accuracy:\",accuracy(ensemblePredictions_V,didCookValidation))"
   ]
  },
  {
   "cell_type": "code",
   "execution_count": 36,
   "id": "3201064f-d655-4479-b622-cf74e1f24b6c",
   "metadata": {},
   "outputs": [],
   "source": [
    "# Extract Stub User/Item Pairs\n",
    "\n",
    "stubUserRecipe = []\n",
    "\n",
    "for l in open(\"stub_Made.txt\"):\n",
    "    if l.startswith(\"user_id\"):\n",
    "        continue\n",
    "    u, r = l.strip().split('-')\n",
    "    stubUserRecipe.append([u, r])"
   ]
  },
  {
   "cell_type": "code",
   "execution_count": null,
   "id": "561c854e-322e-4900-9ae3-8f9c255e1222",
   "metadata": {},
   "outputs": [],
   "source": []
  },
  {
   "cell_type": "code",
   "execution_count": null,
   "id": "ab3d1ddb-4a57-4ebf-ac7f-a74640660787",
   "metadata": {},
   "outputs": [],
   "source": [
    "# Predict Stub\n",
    "featureVectorsS = extractFeatures(stubUserRecipe)\n",
    "featureModels_S, ensembleFeaturesf_S, predictions_S = predictWithEnsemble(featureVectorsS,featureModels,ensembleModel)"
   ]
  },
  {
   "cell_type": "code",
   "execution_count": null,
   "id": "efe3afc5-5240-498a-8014-8352fd1881de",
   "metadata": {},
   "outputs": [],
   "source": [
    "# Save Stub Predictions to File\n",
    "predictionsFile = open(\"predictions_Made.txt\", 'w')\n",
    "predictionsFile.write(\"user_id-recipe_id,prediction\\n\")\n",
    "\n",
    "for i,(u,r) in enumerate(stubUserRecipe):\n",
    "    predictionsFile.write(u + '-' + r + \",\"+str(predictions_S[i])+\"\\n\")\n",
    "\n",
    "predictionsFile.close()"
   ]
  }
 ],
 "metadata": {
  "kernelspec": {
   "display_name": "Python 3.8.9 64-bit",
   "language": "python",
   "name": "python3"
  },
  "language_info": {
   "codemirror_mode": {
    "name": "ipython",
    "version": 3
   },
   "file_extension": ".py",
   "mimetype": "text/x-python",
   "name": "python",
   "nbconvert_exporter": "python",
   "pygments_lexer": "ipython3",
   "version": "3.8.9"
  },
  "vscode": {
   "interpreter": {
    "hash": "31f2aee4e71d21fbe5cf8b01ff0e069b9275f58929596ceb00d14d90e3e16cd6"
   }
  }
 },
 "nbformat": 4,
 "nbformat_minor": 5
}
